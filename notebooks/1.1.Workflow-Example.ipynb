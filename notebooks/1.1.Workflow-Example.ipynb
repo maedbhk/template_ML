{
 "cells": [
  {
   "cell_type": "code",
   "execution_count": 69,
   "id": "a569ff30",
   "metadata": {},
   "outputs": [
    {
     "name": "stdout",
     "output_type": "stream",
     "text": [
      "The autoreload extension is already loaded. To reload it, use:\n",
      "  %reload_ext autoreload\n"
     ]
    }
   ],
   "source": [
    "# import libraries\n",
    "import os\n",
    "import pandas as pd\n",
    "\n",
    "from src.constants import Defaults\n",
    "\n",
    "%load_ext autoreload\n",
    "%autoreload 2\n",
    "\n",
    "import warnings\n",
    "warnings.filterwarnings('ignore')"
   ]
  },
  {
   "attachments": {},
   "cell_type": "markdown",
   "id": "a4499e4f",
   "metadata": {},
   "source": [
    "## Make interim data files (preprocess the raw data files)"
   ]
  },
  {
   "cell_type": "code",
   "execution_count": null,
   "id": "ef8a63b1",
   "metadata": {},
   "outputs": [],
   "source": [
    "from src.scripts import make_interim_datasets\n",
    "\n",
    "make_interim_datasets.run(raw_dir=Dirs.raw_dir, interim_dir=Dirs.interim_dir)"
   ]
  },
  {
   "attachments": {},
   "cell_type": "markdown",
   "id": "d158c5a2",
   "metadata": {},
   "source": [
    "## Make spec files"
   ]
  },
  {
   "cell_type": "code",
   "execution_count": 70,
   "id": "127c0bce",
   "metadata": {},
   "outputs": [
    {
     "name": "stdout",
     "output_type": "stream",
     "text": [
      "created pydraml specs, saved to /Users/maedbhking/Documents/hbn_data\n",
      "created participant specs, saved to /Users/maedbhking/Documents/hbn_data\n",
      "created feature specs, saved to /Users/maedbhking/Documents/hbn_data\n",
      "created target specs, saved to /Users/maedbhking/Documents/hbn_data\n"
     ]
    }
   ],
   "source": [
    "from src.scripts import make_specs\n",
    "\n",
    "# where specs will be saved\n",
    "SPEC_DIR = ''\n",
    "\n",
    "make_specs.run(out_dir=SPEC_DIR)"
   ]
  },
  {
   "attachments": {},
   "cell_type": "markdown",
   "id": "d1f507f8",
   "metadata": {},
   "source": [
    "## Make train/test splits"
   ]
  },
  {
   "cell_type": "code",
   "execution_count": 59,
   "id": "7a09003c",
   "metadata": {},
   "outputs": [
    {
     "name": "stdout",
     "output_type": "stream",
     "text": [
      "train/test splits saved to /Users/maedbhking/Documents/hbn_data/participants_train_test.csv\n"
     ]
    }
   ],
   "source": [
    "import os\n",
    "from src.scripts import make_train_test_split\n",
    "\n",
    "DATA_DIR = '/Users/maedbhking/Documents/hbn_data/'\n",
    "\n",
    "# outpath for train/test data\n",
    "outpath = os.path.join(DATA_DIR, 'participants_train_test.csv')\n",
    "\n",
    "# path to dataframe you want to split\n",
    "fpath = os.path.join(DATA_DIR, 'Clinical_Diagnosis_Demographics.csv')\n",
    "\n",
    "# which columns of dataframe do you want to stratify\n",
    "columns_to_stratify = ['Sex', 'PreInt_Demos_Fam,Child_Race_cat']\n",
    "\n",
    "# which column indicates participant identifiers\n",
    "columns_to_keep = ['Identifiers']\n",
    "\n",
    "make_train_test_split.run(fpath=fpath, \n",
    "                         outpath=outpath,\n",
    "                         columns_to_stratify=columns_to_stratify,\n",
    "                         columns_to_keep=columns_to_keep,\n",
    "                         test_size=.2,\n",
    "                         random_state=42,\n",
    "                         )"
   ]
  },
  {
   "attachments": {},
   "cell_type": "markdown",
   "id": "8c0365b3",
   "metadata": {},
   "source": [
    "## Make firstlevel model"
   ]
  },
  {
   "cell_type": "code",
   "execution_count": 68,
   "id": "e18d70c8",
   "metadata": {},
   "outputs": [
    {
     "data": {
      "text/plain": [
       "['/Users/maedbhking/Documents/hbn_data/target1-spec.json',\n",
       " '/Users/maedbhking/Documents/hbn_data/pydraml1-spec.json',\n",
       " '/Users/maedbhking/Documents/hbn_data/target_DX_01_Cat_binarize-spec.json',\n",
       " '/Users/maedbhking/Documents/hbn_data/features-Teacher_Measures-domains-Peer_Affiliation_and_Social_Acceptance_-Dishion_Teacher-spec.json',\n",
       " '/Users/maedbhking/Documents/hbn_data/features1-spec.json',\n",
       " '/Users/maedbhking/Documents/hbn_data/participant1-spec.json',\n",
       " '/Users/maedbhking/Documents/hbn_data/pydraml2-spec.json']"
      ]
     },
     "execution_count": 68,
     "metadata": {},
     "output_type": "execute_result"
    }
   ],
   "source": [
    "import glob\n",
    "\n",
    "# list spec files\n",
    "list(glob.glob(os.path.join(SPEC_DIR, '*spec.json*')))"
   ]
  },
  {
   "cell_type": "code",
   "execution_count": 67,
   "id": "9b842401",
   "metadata": {},
   "outputs": [
    {
     "name": "stdout",
     "output_type": "stream",
     "text": [
      "creating /Users/maedbhking/Documents/hbn_data/test123\n",
      "created new file: features-766723.csv and model spec file: model_spec-766723.json in /Users/maedbhking/Documents/hbn_data/test123\n"
     ]
    }
   ],
   "source": [
    "from src.scripts import make_model\n",
    "\n",
    "# where spec files are saved\n",
    "SPEC_DIR = '' # directory where spec files are stored\n",
    "DATA_DIR = '' # directory where data are stored \n",
    "OUT_DIR = '' # directory where model features + spec should be saved\n",
    "\n",
    "# fullpath to feature/target/participant specs\n",
    "feature_spec = os.path.join(SPEC_DIR, 'features1-spec.json')\n",
    "target_spec = os.path.join(SPEC_DIR, 'target1-spec.json')\n",
    "participant_spec = os.path.join(SPEC_DIR, 'participant1-spec.json')\n",
    "pydraml_spec = os.path.join(SPEC_DIR, 'pydraml1-spec.json')\n",
    "\n",
    "# make model spec and features\n",
    "make_model.run(\n",
    "    feature_spec,\n",
    "    target_spec,\n",
    "    participant_spec,\n",
    "    pydraml_spec,\n",
    "    data_dir=DATA_DIR,\n",
    "    out_dir=OUT_DIR\n",
    "    )"
   ]
  },
  {
   "attachments": {},
   "cell_type": "markdown",
   "id": "851460f1",
   "metadata": {},
   "source": [
    "## Run firstlevel model(s): train and get model summary"
   ]
  },
  {
   "cell_type": "code",
   "execution_count": 56,
   "id": "8b6f5823",
   "metadata": {},
   "outputs": [],
   "source": [
    "from src.scripts import run_model\n",
    "\n",
    "models = [] # list of model directories to run (e.g., `../processed/models/<model_name>`)\n",
    "\n",
    "# loop over models\n",
    "for model in models:\n",
    "    # get fullpath to model directory\n",
    "    # model spec file and model features should also be in `model_path`\n",
    "\n",
    "    model_dir = os.path.join(Dirs.model_dir, model) # directory where model results will be saved\n",
    "    \n",
    "    # train model and get model summary\n",
    "    run_model.run(\n",
    "        model_dir=model_dir,\n",
    "        cache_dir=None\n",
    "    )"
   ]
  },
  {
   "attachments": {},
   "cell_type": "markdown",
   "id": "7bb88ac8",
   "metadata": {},
   "source": [
    "## Make secondlevel models"
   ]
  },
  {
   "cell_type": "code",
   "execution_count": null,
   "id": "e60234aa",
   "metadata": {},
   "outputs": [],
   "source": [
    "from src.scripts import make_secondlevel_model\n",
    "import os\n",
    "\n",
    "\n",
    "# firstlevel models\n",
    "models = [] # list of model directories to run (e.g., `../processed/models/<model_name>`)\n",
    "\n",
    "# loop over models\n",
    "for model in models:\n",
    "\n",
    "    # define directories\n",
    "    firstlevel_model_dir = os.path.join(Dirs.model_dir, model)\n",
    "    secondlevel_model_dir = os.path.join(Dirs.model_dir, f'{model}_secondlevel')\n",
    "\n",
    "    # make secondlevel models\n",
    "    make_secondlevel_model.run(firstlevel_model_dir, secondlevel_model_dir)"
   ]
  },
  {
   "attachments": {},
   "cell_type": "markdown",
   "id": "aa287840",
   "metadata": {},
   "source": [
    "## Run secondlevel models"
   ]
  },
  {
   "cell_type": "code",
   "execution_count": null,
   "id": "c4af706e",
   "metadata": {},
   "outputs": [],
   "source": [
    "from src.scripts import run_model\n",
    "import os\n",
    "\n",
    "models = [] # list of model directories to run (e.g., `../processed/models/<model_name>`)\n",
    "\n",
    "# run second level models\n",
    "# loop over models\n",
    "for model in models:\n",
    "    # get fullpath to model directory\n",
    "    # model spec file and model features should also be in `model_path`\n",
    "    model_dir = os.path.join(Dirs.model_dir, model) # directory where model results will be saved\n",
    "\n",
    "    # train model and get model summary\n",
    "    run_model.run(\n",
    "        model_dir=model_dir,\n",
    "        cache_dir=None\n",
    "    )"
   ]
  }
 ],
 "metadata": {
  "kernelspec": {
   "display_name": "Python 3 (ipykernel)",
   "language": "python",
   "name": "python3"
  },
  "language_info": {
   "codemirror_mode": {
    "name": "ipython",
    "version": 3
   },
   "file_extension": ".py",
   "mimetype": "text/x-python",
   "name": "python",
   "nbconvert_exporter": "python",
   "pygments_lexer": "ipython3",
   "version": "3.10.10"
  }
 },
 "nbformat": 4,
 "nbformat_minor": 5
}
