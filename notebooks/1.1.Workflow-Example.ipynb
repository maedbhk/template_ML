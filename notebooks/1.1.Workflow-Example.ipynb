{
 "cells": [
  {
   "cell_type": "code",
   "execution_count": 69,
   "id": "a569ff30",
   "metadata": {},
   "outputs": [
    {
     "name": "stdout",
     "output_type": "stream",
     "text": [
      "The autoreload extension is already loaded. To reload it, use:\n",
      "  %reload_ext autoreload\n"
     ]
    }
   ],
   "source": [
    "# import libraries\n",
    "\n",
    "%load_ext autoreload\n",
    "%autoreload 2\n",
    "\n",
    "import warnings\n",
    "warnings.filterwarnings('ignore')"
   ]
  },
  {
   "cell_type": "markdown",
   "id": "d158c5a2",
   "metadata": {},
   "source": [
    "## Make spec files"
   ]
  },
  {
   "cell_type": "code",
   "execution_count": 70,
   "id": "127c0bce",
   "metadata": {},
   "outputs": [
    {
     "name": "stdout",
     "output_type": "stream",
     "text": [
      "created pydraml specs, saved to /Users/maedbhking/Documents/hbn_data\n",
      "created participant specs, saved to /Users/maedbhking/Documents/hbn_data\n",
      "created feature specs, saved to /Users/maedbhking/Documents/hbn_data\n",
      "created target specs, saved to /Users/maedbhking/Documents/hbn_data\n"
     ]
    }
   ],
   "source": [
    "from src.scripts import make_specs\n",
    "\n",
    "# where specs will be saved\n",
    "SPEC_DIR = '/Users/maedbhking/Documents/hbn_data'\n",
    "\n",
    "make_specs.run(out_dir=SPEC_DIR)"
   ]
  },
  {
   "cell_type": "markdown",
   "id": "d1f507f8",
   "metadata": {},
   "source": [
    "## Make train/test splits"
   ]
  },
  {
   "cell_type": "code",
   "execution_count": 59,
   "id": "7a09003c",
   "metadata": {},
   "outputs": [
    {
     "name": "stdout",
     "output_type": "stream",
     "text": [
      "train/test splits saved to /Users/maedbhking/Documents/hbn_data/participants_train_test.csv\n"
     ]
    }
   ],
   "source": [
    "import os\n",
    "from src.scripts import make_train_test_split\n",
    "\n",
    "DATA_DIR = '/Users/maedbhking/Documents/hbn_data/'\n",
    "\n",
    "# outpath for train/test data\n",
    "outpath = os.path.join(DATA_DIR, 'participants_train_test.csv')\n",
    "\n",
    "# path to dataframe you want to split\n",
    "fpath = os.path.join(DATA_DIR, 'Clinical_Diagnosis_Demographics.csv')\n",
    "\n",
    "# which columns of dataframe do you want to stratify\n",
    "columns_to_stratify = ['Sex', 'PreInt_Demos_Fam,Child_Race_cat']\n",
    "\n",
    "# which column indicates participant identifiers\n",
    "columns_to_keep = ['Identifiers']\n",
    "\n",
    "make_train_test_split.run(fpath=fpath, \n",
    "                         outpath=outpath,\n",
    "                         columns_to_stratify=columns_to_stratify,\n",
    "                         columns_to_keep=columns_to_keep,\n",
    "                         test_size=.2,\n",
    "                         random_state=42,\n",
    "                         )"
   ]
  },
  {
   "cell_type": "code",
   "execution_count": 19,
   "id": "e7f67693",
   "metadata": {},
   "outputs": [
    {
     "data": {
      "text/html": [
       "<div>\n",
       "<style scoped>\n",
       "    .dataframe tbody tr th:only-of-type {\n",
       "        vertical-align: middle;\n",
       "    }\n",
       "\n",
       "    .dataframe tbody tr th {\n",
       "        vertical-align: top;\n",
       "    }\n",
       "\n",
       "    .dataframe thead th {\n",
       "        text-align: right;\n",
       "    }\n",
       "</style>\n",
       "<table border=\"1\" class=\"dataframe\">\n",
       "  <thead>\n",
       "    <tr style=\"text-align: right;\">\n",
       "      <th></th>\n",
       "      <th>Identifiers</th>\n",
       "      <th>split</th>\n",
       "    </tr>\n",
       "  </thead>\n",
       "  <tbody>\n",
       "    <tr>\n",
       "      <th>0</th>\n",
       "      <td>NDARMZ366UY8</td>\n",
       "      <td>train</td>\n",
       "    </tr>\n",
       "    <tr>\n",
       "      <th>1</th>\n",
       "      <td>NDARJK842BCN</td>\n",
       "      <td>train</td>\n",
       "    </tr>\n",
       "    <tr>\n",
       "      <th>2</th>\n",
       "      <td>NDARDB224XUD</td>\n",
       "      <td>train</td>\n",
       "    </tr>\n",
       "    <tr>\n",
       "      <th>3</th>\n",
       "      <td>NDARMN043YKC</td>\n",
       "      <td>train</td>\n",
       "    </tr>\n",
       "    <tr>\n",
       "      <th>4</th>\n",
       "      <td>NDARLE222HJ5</td>\n",
       "      <td>train</td>\n",
       "    </tr>\n",
       "  </tbody>\n",
       "</table>\n",
       "</div>"
      ],
      "text/plain": [
       "    Identifiers  split\n",
       "0  NDARMZ366UY8  train\n",
       "1  NDARJK842BCN  train\n",
       "2  NDARDB224XUD  train\n",
       "3  NDARMN043YKC  train\n",
       "4  NDARLE222HJ5  train"
      ]
     },
     "execution_count": 19,
     "metadata": {},
     "output_type": "execute_result"
    }
   ],
   "source": [
    "import pandas as pd\n",
    "\n",
    "df = pd.read_csv(outpath)\n",
    "df.head(5)"
   ]
  },
  {
   "cell_type": "markdown",
   "id": "8c0365b3",
   "metadata": {},
   "source": [
    "## Make model"
   ]
  },
  {
   "cell_type": "code",
   "execution_count": 68,
   "id": "e18d70c8",
   "metadata": {},
   "outputs": [
    {
     "data": {
      "text/plain": [
       "['/Users/maedbhking/Documents/hbn_data/target1-spec.json',\n",
       " '/Users/maedbhking/Documents/hbn_data/pydraml1-spec.json',\n",
       " '/Users/maedbhking/Documents/hbn_data/target_DX_01_Cat_binarize-spec.json',\n",
       " '/Users/maedbhking/Documents/hbn_data/features-Teacher_Measures-domains-Peer_Affiliation_and_Social_Acceptance_-Dishion_Teacher-spec.json',\n",
       " '/Users/maedbhking/Documents/hbn_data/features1-spec.json',\n",
       " '/Users/maedbhking/Documents/hbn_data/participant1-spec.json',\n",
       " '/Users/maedbhking/Documents/hbn_data/pydraml2-spec.json']"
      ]
     },
     "execution_count": 68,
     "metadata": {},
     "output_type": "execute_result"
    }
   ],
   "source": [
    "import glob\n",
    "\n",
    "# list spec files\n",
    "list(glob.glob(os.path.join(SPEC_DIR, '*spec.json*')))"
   ]
  },
  {
   "cell_type": "code",
   "execution_count": 67,
   "id": "9b842401",
   "metadata": {},
   "outputs": [
    {
     "name": "stdout",
     "output_type": "stream",
     "text": [
      "creating /Users/maedbhking/Documents/hbn_data/test123\n",
      "created new file: features-766723.csv and model spec file: model_spec-766723.json in /Users/maedbhking/Documents/hbn_data/test123\n"
     ]
    }
   ],
   "source": [
    "from src.scripts import make_model\n",
    "\n",
    "# where spec files are saved\n",
    "SPEC_DIR = '/Users/maedbhking/Documents/hbn_data/' # directory where spec files are stored\n",
    "DATA_DIR = '/Users/maedbhking/Documents/hbn_data/' # directory where data are stored \n",
    "OUT_DIR = '/Users/maedbhking/Documents/hbn_data/test123' # directory where model features + spec should be saved\n",
    "\n",
    "# fullpath to feature/target/participant specs\n",
    "feature_spec = os.path.join(SPEC_DIR, 'features1-spec.json')\n",
    "target_spec = os.path.join(SPEC_DIR, 'target1-spec.json')\n",
    "participant_spec = os.path.join(SPEC_DIR, 'participant1-spec.json')\n",
    "pydraml_spec = os.path.join(SPEC_DIR, 'pydraml1-spec.json')\n",
    "\n",
    "# make model spec and features\n",
    "make_model.run(\n",
    "    feature_spec,\n",
    "    target_spec,\n",
    "    participant_spec,\n",
    "    pydraml_spec,\n",
    "    data_dir=DATA_DIR,\n",
    "    out_dir=OUT_DIR\n",
    "    )"
   ]
  },
  {
   "cell_type": "markdown",
   "id": "851460f1",
   "metadata": {},
   "source": [
    "## Run model(s)"
   ]
  },
  {
   "cell_type": "code",
   "execution_count": 56,
   "id": "8b6f5823",
   "metadata": {},
   "outputs": [],
   "source": [
    "from src.scripts import run_model\n",
    "\n",
    "model_spec = '' # fullpath to model spec \n",
    "features = '' # fullpath to features (filename should correspond to `filename` in `model_spec`)\n",
    "OUT_DIR = '' # directory where model results should be saved.\n",
    "CACHE_DIR = None # where model cache will be saved. Default is '~/.cache/pydra-ml/cache-wf/'\n",
    "\n",
    "# run model\n",
    "run_model.run(\n",
    "            model_spec=model_spec, \n",
    "            features=features,\n",
    "            out_dir=OUT_DIR,\n",
    "            cache_dir=CACHE_DIR\n",
    "            )"
   ]
  },
  {
   "cell_type": "markdown",
   "id": "37dc94df",
   "metadata": {},
   "source": [
    "## Model Summary"
   ]
  },
  {
   "cell_type": "code",
   "execution_count": null,
   "id": "32a17044",
   "metadata": {},
   "outputs": [],
   "source": [
    "from src.scripts import make_summary\n",
    "    \n",
    "results = '' # fullpath to results (.pkl)\n",
    "model_spec = '' # fullpath to model_spec file (if None, code checks the model output directory for model spec)\n",
    "out_dir = '' # directory where model summary will be saved\n",
    "methods = ['feature'] # feature interpretability based on feature or permuation\n",
    "\n",
    "# make model summary\n",
    "make_summary.run(\n",
    "    results,\n",
    "    model_spec,\n",
    "    out_dir,\n",
    "    methods\n",
    "    )"
   ]
  }
 ],
 "metadata": {
  "kernelspec": {
   "display_name": "Python 3 (ipykernel)",
   "language": "python",
   "name": "python3"
  },
  "language_info": {
   "codemirror_mode": {
    "name": "ipython",
    "version": 3
   },
   "file_extension": ".py",
   "mimetype": "text/x-python",
   "name": "python",
   "nbconvert_exporter": "python",
   "pygments_lexer": "ipython3",
   "version": "3.10.10"
  }
 },
 "nbformat": 4,
 "nbformat_minor": 5
}
