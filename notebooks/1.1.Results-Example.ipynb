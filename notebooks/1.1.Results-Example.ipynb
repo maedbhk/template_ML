{
 "cells": [
  {
   "cell_type": "code",
   "execution_count": null,
   "metadata": {},
   "outputs": [],
   "source": [
    "# import libraries\n",
    "import os\n",
    "import seaborn as sns\n",
    "import matplotlib.pyplot as plt\n",
    "import pandas as pd\n",
    "\n",
    "# load directories\n",
    "from src.constants import Dirs\n",
    "from src.visualization import visualize as vis\n",
    "\n",
    "# import warnings\n",
    "warnings.filterwarnings(\"ignore\")\n",
    "\n",
    "import plotly.io as pio\n",
    "pio.renderers.default = 'notebook'\n",
    "\n",
    "%load_ext autoreload\n",
    "%autoreload 2\n"
   ]
  },
  {
   "attachments": {},
   "cell_type": "markdown",
   "metadata": {},
   "source": [
    "## Results - Model Summary"
   ]
  },
  {
   "cell_type": "code",
   "execution_count": null,
   "metadata": {},
   "outputs": [],
   "source": [
    "# load model results\n",
    "\n",
    "models = []\n",
    "\n",
    "data = pd.DataFrame()\n",
    "for model in models:\n",
    "    # read model summary into pd dataframe\n",
    "    df = pd.read_csv(os.path.join(Dirs.model_dir, model, 'model-summary.csv'))\n",
    "\n",
    "    # assign model name to dataframe\n",
    "    df['model_name'] = model\n",
    "\n",
    "    # flip 'data' and 'null' as messed up in results\n",
    "    for idx in df.index:\n",
    "        if df['data'][idx] == 'model-null':\n",
    "            df['data'][idx] = 'model-data'\n",
    "        elif df['data'][idx] == 'model-data':\n",
    "            df['data'][idx] = 'model-null\n",
    "\n",
    "    # append dataframe\n",
    "    data = pd.concat([data, df])\n"
   ]
  },
  {
   "attachments": {},
   "cell_type": "markdown",
   "metadata": {},
   "source": [
    "## Visualize Model Results"
   ]
  },
  {
   "cell_type": "code",
   "execution_count": null,
   "metadata": {},
   "outputs": [],
   "source": [
    "plt.figure()\n",
    "ax = sns.violinplot(\n",
    "                    data=data, \n",
    "                    x='model_name',\n",
    "                    y='roc_auc_score',\n",
    "                    hue='data',\n",
    "                    split=True,\n",
    "                    legend=True\n",
    "                    )\n",
    "plt.ylabel('roc auc score')\n",
    "plt.xlabel('')\n",
    "plt.xticks(rotation=45, ha='right')\n",
    "plt.ylim([0.3, 1.0])\n",
    "ax.legend(loc='best', fontsize=15)"
   ]
  },
  {
   "cell_type": "code",
   "execution_count": null,
   "metadata": {},
   "outputs": [],
   "source": []
  }
 ],
 "metadata": {
  "language_info": {
   "name": "python"
  },
  "orig_nbformat": 4
 },
 "nbformat": 4,
 "nbformat_minor": 2
}
